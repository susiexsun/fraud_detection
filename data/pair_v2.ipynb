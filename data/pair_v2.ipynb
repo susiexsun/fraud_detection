{
 "cells": [
  {
   "cell_type": "code",
   "execution_count": 106,
   "metadata": {
    "collapsed": true
   },
   "outputs": [],
   "source": [
    "import pandas as pd\n",
    "import numpy as np\n",
    "import matplotlib.pyplot as plt\n",
    "from sklearn.ensemble import RandomForestClassifier, GradientBoostingClassifier\n",
    "from sklearn.cross_validation import KFold, train_test_split\n",
    "from sklearn.metrics import accuracy_score, confusion_matrix, roc_curve\n",
    "from sklearn.feature_extraction.text import TfidfVectorizer\n",
    "from nltk.stem import WordNetLemmatizer\n",
    "from sklearn.metrics.pairwise import pairwise_distances\n",
    "from sklearn.metrics.pairwise import cosine_similarity\n",
    "from difflib import SequenceMatcher as SM\n",
    "from sklearn.linear_model import LogisticRegression\n",
    "from sklearn.preprocessing import scale\n",
    "from sklearn.svm import SVC\n",
    "from sklearn.grid_search import GridSearchCV\n",
    "from sklearn.neighbors import KNeighborsClassifier\n",
    "import datetime\n",
    "import cPickle as pickle\n",
    "\n",
    "%matplotlib inline"
   ]
  },
  {
   "cell_type": "code",
   "execution_count": 107,
   "metadata": {
    "collapsed": true
   },
   "outputs": [],
   "source": [
    "def convert_unix_timestamp(df, column_name):\n",
    "    df[column_name] = df[column_name].map(lambda x: datetime.datetime.fromtimestamp(x).strftime('%Y-%m-%d %H:%M:%S'))"
   ]
  },
  {
   "cell_type": "code",
   "execution_count": 108,
   "metadata": {
    "collapsed": true
   },
   "outputs": [],
   "source": [
    "def add_dummies(df, column_name, baseline):\n",
    "    dummies = pd.get_dummies(df[column_name])\n",
    "    if column_name == 'payout_type':\n",
    "        dummies.rename(columns={'': 'BLANK'}, inplace=True)\n",
    "    dummies.drop(baseline, axis=1, inplace=True)\n",
    "    df.drop(column_name, axis=1, inplace=True)\n",
    "    return pd.concat((df, dummies), axis=1)"
   ]
  },
  {
   "cell_type": "code",
   "execution_count": 109,
   "metadata": {
    "collapsed": true
   },
   "outputs": [],
   "source": [
    "def length_of_feature(df, column_name, length_col_name, drop_orig=True):\n",
    "    df[length_col_name] = map(lambda x: len(x), df[column_name])\n",
    "    if drop_orig == True:\n",
    "        df.drop(column_name, axis=1, inplace=True)"
   ]
  },
  {
   "cell_type": "code",
   "execution_count": 110,
   "metadata": {
    "collapsed": true
   },
   "outputs": [],
   "source": [
    "def smote(X, y, minority_weight=.5):\n",
    "    '''\n",
    "    generates new observations in minority class\n",
    "    so that output X, y have specified percentage of majority observations\n",
    "    '''\n",
    "    # compute number of new examples required\n",
    "    class_ratio = y.sum()/float(len(y))\n",
    "    majority_class_label = round(class_ratio)\n",
    "    X_minority = X[y!=majority_class_label]\n",
    "    y_minority = y[y!=majority_class_label]\n",
    "    min_count = len(X_minority)\n",
    "    maj_count = len(X) - min_count\n",
    "    scaling_factor = (maj_count/float(min_count))*(minority_weight/(1-minority_weight))\n",
    "    new_observations_target = round(scaling_factor*min_count) - min_count\n",
    "\n",
    "    # train KNN\n",
    "    knn_model = KNeighborsClassifier(n_neighbors=int(round(len(X_minority)**.5)))\n",
    "    knn_model.fit(X_minority, y_minority)\n",
    "    if new_observations_target < len(X_minority):\n",
    "        sample_indices = np.random.choice(xrange(X_minority), \n",
    "                                          size=new_observations_target,\n",
    "                                          replace=False)\n",
    "        smote_samples = X_minority[sample_indices]\n",
    "    else:\n",
    "        smote_samples = X_minority\n",
    "    neighbors = knn_model.kneighbors(smote_samples)[1]\n",
    "    \n",
    "    # generate new samples\n",
    "    new_observations = np.empty((0,X.shape[1]))\n",
    "    while len(new_observations) < new_observations_target:\n",
    "        index = len(new_observations) % len(smote_samples)\n",
    "        neighbor_index = np.random.choice(neighbors[index])\n",
    "        neighbor = smote_samples[neighbor_index]\n",
    "        x = X_minority[index]\n",
    "        new_x = x + (neighbor - x)*np.random.random(size=X_minority.shape[1])\n",
    "        new_observations = np.vstack((new_observations, new_x))\n",
    "    minority_class_label = (majority_class_label + 1) % 2\n",
    "    X = np.vstack((X, new_observations))\n",
    "    y = np.hstack((y, np.array([minority_class_label]*len(new_observations))))\n",
    "    \n",
    "    return X, y"
   ]
  },
  {
   "cell_type": "code",
   "execution_count": 143,
   "metadata": {
    "collapsed": true
   },
   "outputs": [],
   "source": [
    "def feature_importance(model, dfX, dfy):\n",
    "    fi = model.feature_importances_\n",
    "    yticks = X_top.columns[np.argsort(fi)].values\n",
    "    fi = sorted(fi)\n",
    "    x = xrange(len(yticks))\n",
    "    plt.figure(figsize=(15, 15))\n",
    "    plt.barh(x, fi)\n",
    "    plt.yticks(x, yticks)\n",
    "    plt.tight_layout()"
   ]
  },
  {
   "cell_type": "markdown",
   "metadata": {},
   "source": [
    "## Read in data"
   ]
  },
  {
   "cell_type": "code",
   "execution_count": 112,
   "metadata": {
    "collapsed": true
   },
   "outputs": [],
   "source": [
    "df = pd.read_json('train_new.json')"
   ]
  },
  {
   "cell_type": "code",
   "execution_count": 113,
   "metadata": {
    "collapsed": true
   },
   "outputs": [],
   "source": [
    "# Find rows that are fraudulent\n",
    "frauds = df['acct_type'].str.contains('fraudster')"
   ]
  },
  {
   "cell_type": "code",
   "execution_count": 114,
   "metadata": {
    "collapsed": true
   },
   "outputs": [],
   "source": [
    "df['fraud'] = frauds"
   ]
  },
  {
   "cell_type": "code",
   "execution_count": 46,
   "metadata": {
    "collapsed": false
   },
   "outputs": [],
   "source": [
    "#convert_unix_timestamp(df, 'event_created')\n",
    "#convert_unix_timestamp(df, 'event_start')\n",
    "#convert_unix_timestamp(df, 'event_end')\n",
    "# Filling empty values\n",
    "#df['event_published'] = df['event_published'].fillna(1352831618)\n",
    "#convert_unix_timestamp(df, 'event_published')\n",
    "\n",
    "#convert_unix_timestamp(df, 'user_created')"
   ]
  },
  {
   "cell_type": "code",
   "execution_count": 115,
   "metadata": {
    "collapsed": true
   },
   "outputs": [],
   "source": [
    "# Countries dummies ('US' as baseline)\n",
    "df = add_dummies(df, 'country', 'US')\n",
    "# Currency dummies ('USD' as baseline)\n",
    "df = add_dummies(df, 'currency', 'USD')\n",
    "# Payouts dummies ('ACH' as baseline)\n",
    "df = add_dummies(df, 'payout_type', 'ACH')"
   ]
  },
  {
   "cell_type": "code",
   "execution_count": 116,
   "metadata": {
    "collapsed": true
   },
   "outputs": [],
   "source": [
    "length_of_feature(df, 'description', 'len_desc')\n",
    "length_of_feature(df, 'previous_payouts', 'len_pp')\n",
    "length_of_feature(df, 'org_desc', 'len_org_desc')\n",
    "length_of_feature(df, 'ticket_types', 'len_tt')"
   ]
  },
  {
   "cell_type": "code",
   "execution_count": 117,
   "metadata": {
    "collapsed": false
   },
   "outputs": [],
   "source": [
    "df['has_header'] = df['has_header'].fillna(2)\n",
    "df['venue_latitude'] = df['venue_latitude'].fillna(0.)\n",
    "df['venue_longitude'] = df['venue_longitude'].fillna(0.)\n",
    "df['sale_duration'] = df['sale_duration'].fillna(df['sale_duration'].mean())"
   ]
  },
  {
   "cell_type": "code",
   "execution_count": 118,
   "metadata": {
    "collapsed": true
   },
   "outputs": [],
   "source": [
    "df['org_facebook'] = df['org_facebook'].fillna(0)\n",
    "df['org_twitter'] = df['org_twitter'].fillna(0)\n",
    "df['event_published'] = df['event_published'].fillna(0)\n",
    "df['delivery_method'] = df['delivery_method'].fillna(0)"
   ]
  },
  {
   "cell_type": "code",
   "execution_count": 119,
   "metadata": {
    "collapsed": false
   },
   "outputs": [],
   "source": [
    "df.drop(['venue_state', 'venue_name', 'venue_address'], axis=1, inplace=True)"
   ]
  },
  {
   "cell_type": "code",
   "execution_count": 120,
   "metadata": {
    "collapsed": true
   },
   "outputs": [],
   "source": [
    "sus_domains = [\"gmail.com\", \"yahoo.com\", \"hotmail.com\", \"ymail.com\",\"aol.com\", \\\n",
    "               \"lidf.co.uk\",\" live.com\", \"live.fr\", \"yahoo.co.uk\", \"rocketmail.com\"]\n",
    "df['sus_domain'] = map(lambda x: True if x in sus_domains else False, df['email_domain'])\n",
    "df.drop(['email_domain'], axis=1, inplace=True)"
   ]
  },
  {
   "cell_type": "code",
   "execution_count": 121,
   "metadata": {
    "collapsed": false
   },
   "outputs": [],
   "source": [
    "def fuzzy(x):\n",
    "    return SM(None, x['org_name'], x['payee_name']).ratio()\n",
    "\n",
    "df['fuzzy_sim'] = df.apply(fuzzy, axis=1)"
   ]
  },
  {
   "cell_type": "code",
   "execution_count": 122,
   "metadata": {
    "collapsed": false
   },
   "outputs": [],
   "source": [
    "df.drop(['name', 'org_name', 'payee_name'], axis=1, inplace=True)"
   ]
  },
  {
   "cell_type": "code",
   "execution_count": 123,
   "metadata": {
    "collapsed": true
   },
   "outputs": [],
   "source": [
    "df.drop(['acct_type', 'venue_country'], axis=1, inplace=True)\n",
    "df['listed'] = df['listed'].map({'y': 1, 'n': 0})"
   ]
  },
  {
   "cell_type": "code",
   "execution_count": 124,
   "metadata": {
    "collapsed": true
   },
   "outputs": [],
   "source": [
    "y = df['fraud']\n",
    "X = df.drop('fraud', axis=1)"
   ]
  },
  {
   "cell_type": "code",
   "execution_count": 125,
   "metadata": {
    "collapsed": false
   },
   "outputs": [],
   "source": [
    "X_smoted, y_smoted = smote(X.values, y.values, minority_weight=.3)"
   ]
  },
  {
   "cell_type": "code",
   "execution_count": 126,
   "metadata": {
    "collapsed": true
   },
   "outputs": [],
   "source": [
    "X_train, X_test, y_train, y_test = train_test_split(X, y, test_size=0.20, random_state=42)"
   ]
  },
  {
   "cell_type": "markdown",
   "metadata": {},
   "source": [
    "## Fitting Random Forest with SMOTE"
   ]
  },
  {
   "cell_type": "code",
   "execution_count": 127,
   "metadata": {
    "collapsed": false
   },
   "outputs": [
    {
     "data": {
      "text/plain": [
       "RandomForestClassifier(bootstrap=True, class_weight=None, criterion='gini',\n",
       "            max_depth=None, max_features='auto', max_leaf_nodes=None,\n",
       "            min_samples_leaf=1, min_samples_split=2,\n",
       "            min_weight_fraction_leaf=0.0, n_estimators=10, n_jobs=1,\n",
       "            oob_score=False, random_state=None, verbose=0,\n",
       "            warm_start=False)"
      ]
     },
     "execution_count": 127,
     "metadata": {},
     "output_type": "execute_result"
    }
   ],
   "source": [
    "rf = RandomForestClassifier()\n",
    "rf.fit(X_smoted, y_smoted)"
   ]
  },
  {
   "cell_type": "code",
   "execution_count": 129,
   "metadata": {
    "collapsed": false
   },
   "outputs": [
    {
     "data": {
      "image/png": "[encoded data removed]",
      "text/plain": [
       "<matplotlib.figure.Figure at 0x167a48d90>"
      ]
     },
     "metadata": {},
     "output_type": "display_data"
    }
   ],
   "source": [
    "feature_importance(rf, X_smoted, y_smoted)"
   ]
  },
  {
   "cell_type": "code",
   "execution_count": 130,
   "metadata": {
    "collapsed": false
   },
   "outputs": [
    {
     "data": {
      "text/plain": [
       "0.99946334657078462"
      ]
     },
     "execution_count": 130,
     "metadata": {},
     "output_type": "execute_result"
    }
   ],
   "source": [
    "rf.score(X_smoted, y_smoted)"
   ]
  },
  {
   "cell_type": "code",
   "execution_count": 131,
   "metadata": {
    "collapsed": true
   },
   "outputs": [],
   "source": [
    "y_pred = rf.predict(X_test)"
   ]
  },
  {
   "cell_type": "code",
   "execution_count": 132,
   "metadata": {
    "collapsed": false
   },
   "outputs": [
    {
     "data": {
      "text/plain": [
       "array([[2614,    0],\n",
       "       [   0,  254]])"
      ]
     },
     "execution_count": 132,
     "metadata": {},
     "output_type": "execute_result"
    }
   ],
   "source": [
    "confusion_matrix(y_test, y_pred)"
   ]
  },
  {
   "cell_type": "code",
   "execution_count": 134,
   "metadata": {
    "collapsed": false
   },
   "outputs": [
    {
     "name": "stdout",
     "output_type": "stream",
     "text": [
      "Accuracy Score:  0.999511752807\n",
      "True Positive Rate:  1.0\n"
     ]
    }
   ],
   "source": [
    "tpr = 2614. / (2614 + 0)\n",
    "print \"Accuracy Score: \", rf.score(X, y)\n",
    "print \"True Positive Rate: \", tpr"
   ]
  },
  {
   "cell_type": "markdown",
   "metadata": {},
   "source": [
    "### Random Forest on Top 20 Features"
   ]
  },
  {
   "cell_type": "code",
   "execution_count": 135,
   "metadata": {
    "collapsed": false
   },
   "outputs": [],
   "source": [
    "yticks = X.columns[np.argsort(rf.feature_importances_)].values\n",
    "features = yticks[-20:]"
   ]
  },
  {
   "cell_type": "code",
   "execution_count": 136,
   "metadata": {
    "collapsed": false
   },
   "outputs": [
    {
     "name": "stdout",
     "output_type": "stream",
     "text": [
      "[u'event_start' u'event_published' u'CHECK' u'name_length' u'user_created'\n",
      " u'org_twitter' u'gts' u'user_type' 'sus_domain' u'venue_latitude' 'BLANK'\n",
      " u'org_facebook' u'delivery_method' u'num_payouts' u'venue_longitude'\n",
      " u'sale_duration' u'num_order' u'sale_duration2' 'len_pp' u'user_age']\n"
     ]
    }
   ],
   "source": [
    "print features"
   ]
  },
  {
   "cell_type": "code",
   "execution_count": 137,
   "metadata": {
    "collapsed": false
   },
   "outputs": [],
   "source": [
    "X_top = X[features]"
   ]
  },
  {
   "cell_type": "code",
   "execution_count": 138,
   "metadata": {
    "collapsed": false
   },
   "outputs": [
    {
     "data": {
      "text/html": [
       "<div>\n",
       "<table border=\"1\" class=\"dataframe\">\n",
       "  <thead>\n",
       "    <tr style=\"text-align: right;\">\n",
       "      <th></th>\n",
       "      <th>event_start</th>\n",
       "      <th>event_published</th>\n",
       "      <th>CHECK</th>\n",
       "      <th>name_length</th>\n",
       "      <th>user_created</th>\n",
       "      <th>org_twitter</th>\n",
       "      <th>gts</th>\n",
       "      <th>user_type</th>\n",
       "      <th>sus_domain</th>\n",
       "      <th>venue_latitude</th>\n",
       "      <th>BLANK</th>\n",
       "      <th>org_facebook</th>\n",
       "      <th>delivery_method</th>\n",
       "      <th>num_payouts</th>\n",
       "      <th>venue_longitude</th>\n",
       "      <th>sale_duration</th>\n",
       "      <th>num_order</th>\n",
       "      <th>sale_duration2</th>\n",
       "      <th>len_pp</th>\n",
       "      <th>user_age</th>\n",
       "    </tr>\n",
       "  </thead>\n",
       "  <tbody>\n",
       "    <tr>\n",
       "      <th>0</th>\n",
       "      <td>1265594400</td>\n",
       "      <td>1263109838</td>\n",
       "      <td>0</td>\n",
       "      <td>60</td>\n",
       "      <td>1259613950</td>\n",
       "      <td>0</td>\n",
       "      <td>0.00</td>\n",
       "      <td>1</td>\n",
       "      <td>True</td>\n",
       "      <td>25.777471</td>\n",
       "      <td>1</td>\n",
       "      <td>0</td>\n",
       "      <td>0</td>\n",
       "      <td>0</td>\n",
       "      <td>-80.133433</td>\n",
       "      <td>29</td>\n",
       "      <td>0</td>\n",
       "      <td>33</td>\n",
       "      <td>0</td>\n",
       "      <td>36</td>\n",
       "    </tr>\n",
       "    <tr>\n",
       "      <th>1</th>\n",
       "      <td>1296255600</td>\n",
       "      <td>1293833295</td>\n",
       "      <td>1</td>\n",
       "      <td>27</td>\n",
       "      <td>1280942776</td>\n",
       "      <td>12</td>\n",
       "      <td>868.02</td>\n",
       "      <td>3</td>\n",
       "      <td>False</td>\n",
       "      <td>32.776566</td>\n",
       "      <td>0</td>\n",
       "      <td>0</td>\n",
       "      <td>1</td>\n",
       "      <td>1</td>\n",
       "      <td>-79.930922</td>\n",
       "      <td>28</td>\n",
       "      <td>23</td>\n",
       "      <td>28</td>\n",
       "      <td>49</td>\n",
       "      <td>149</td>\n",
       "    </tr>\n",
       "    <tr>\n",
       "      <th>2</th>\n",
       "      <td>1295713800</td>\n",
       "      <td>1291091908</td>\n",
       "      <td>1</td>\n",
       "      <td>28</td>\n",
       "      <td>1272559388</td>\n",
       "      <td>0</td>\n",
       "      <td>3500.00</td>\n",
       "      <td>3</td>\n",
       "      <td>False</td>\n",
       "      <td>33.944201</td>\n",
       "      <td>0</td>\n",
       "      <td>0</td>\n",
       "      <td>1</td>\n",
       "      <td>4</td>\n",
       "      <td>-118.080419</td>\n",
       "      <td>54</td>\n",
       "      <td>19</td>\n",
       "      <td>54</td>\n",
       "      <td>36</td>\n",
       "      <td>214</td>\n",
       "    </tr>\n",
       "    <tr>\n",
       "      <th>3</th>\n",
       "      <td>1360702800</td>\n",
       "      <td>1360683446</td>\n",
       "      <td>0</td>\n",
       "      <td>21</td>\n",
       "      <td>1283870102</td>\n",
       "      <td>0</td>\n",
       "      <td>1167.35</td>\n",
       "      <td>3</td>\n",
       "      <td>False</td>\n",
       "      <td>0.000000</td>\n",
       "      <td>0</td>\n",
       "      <td>0</td>\n",
       "      <td>1</td>\n",
       "      <td>16</td>\n",
       "      <td>0.000000</td>\n",
       "      <td>0</td>\n",
       "      <td>39</td>\n",
       "      <td>0</td>\n",
       "      <td>21</td>\n",
       "      <td>889</td>\n",
       "    </tr>\n",
       "    <tr>\n",
       "      <th>4</th>\n",
       "      <td>1297440000</td>\n",
       "      <td>1291994966</td>\n",
       "      <td>1</td>\n",
       "      <td>66</td>\n",
       "      <td>1288984065</td>\n",
       "      <td>0</td>\n",
       "      <td>2313.15</td>\n",
       "      <td>3</td>\n",
       "      <td>False</td>\n",
       "      <td>42.353848</td>\n",
       "      <td>0</td>\n",
       "      <td>0</td>\n",
       "      <td>0</td>\n",
       "      <td>0</td>\n",
       "      <td>-71.044276</td>\n",
       "      <td>63</td>\n",
       "      <td>30</td>\n",
       "      <td>63</td>\n",
       "      <td>49</td>\n",
       "      <td>35</td>\n",
       "    </tr>\n",
       "  </tbody>\n",
       "</table>\n",
       "</div>"
      ],
      "text/plain": [
       "   event_start  event_published  CHECK  name_length  user_created  \\\n",
       "0   1265594400       1263109838      0           60    1259613950   \n",
       "1   1296255600       1293833295      1           27    1280942776   \n",
       "2   1295713800       1291091908      1           28    1272559388   \n",
       "3   1360702800       1360683446      0           21    1283870102   \n",
       "4   1297440000       1291994966      1           66    1288984065   \n",
       "\n",
       "   org_twitter      gts  user_type sus_domain  venue_latitude  BLANK  \\\n",
       "0            0     0.00          1       True       25.777471      1   \n",
       "1           12   868.02          3      False       32.776566      0   \n",
       "2            0  3500.00          3      False       33.944201      0   \n",
       "3            0  1167.35          3      False        0.000000      0   \n",
       "4            0  2313.15          3      False       42.353848      0   \n",
       "\n",
       "   org_facebook  delivery_method  num_payouts  venue_longitude  sale_duration  \\\n",
       "0             0                0            0       -80.133433             29   \n",
       "1             0                1            1       -79.930922             28   \n",
       "2             0                1            4      -118.080419             54   \n",
       "3             0                1           16         0.000000              0   \n",
       "4             0                0            0       -71.044276             63   \n",
       "\n",
       "   num_order  sale_duration2  len_pp  user_age  \n",
       "0          0              33       0        36  \n",
       "1         23              28      49       149  \n",
       "2         19              54      36       214  \n",
       "3         39               0      21       889  \n",
       "4         30              63      49        35  "
      ]
     },
     "execution_count": 138,
     "metadata": {},
     "output_type": "execute_result"
    }
   ],
   "source": [
    "X_top.head()"
   ]
  },
  {
   "cell_type": "code",
   "execution_count": 139,
   "metadata": {
    "collapsed": false
   },
   "outputs": [],
   "source": [
    "X_top_smoted, y_smoted = smote(X_top.values, y.values, minority_weight=.3)"
   ]
  },
  {
   "cell_type": "code",
   "execution_count": 140,
   "metadata": {
    "collapsed": true
   },
   "outputs": [],
   "source": [
    "X_top_train, X_top_test, y_train, y_test = train_test_split(X_top, y, test_size=0.20, random_state=42)"
   ]
  },
  {
   "cell_type": "code",
   "execution_count": 141,
   "metadata": {
    "collapsed": false
   },
   "outputs": [
    {
     "data": {
      "text/plain": [
       "RandomForestClassifier(bootstrap=True, class_weight=None, criterion='gini',\n",
       "            max_depth=None, max_features='auto', max_leaf_nodes=None,\n",
       "            min_samples_leaf=1, min_samples_split=2,\n",
       "            min_weight_fraction_leaf=0.0, n_estimators=10, n_jobs=1,\n",
       "            oob_score=False, random_state=None, verbose=0,\n",
       "            warm_start=False)"
      ]
     },
     "execution_count": 141,
     "metadata": {},
     "output_type": "execute_result"
    }
   ],
   "source": [
    "rf_top = RandomForestClassifier()\n",
    "rf_top.fit(X_top_smoted, y_smoted)"
   ]
  },
  {
   "cell_type": "code",
   "execution_count": 142,
   "metadata": {
    "collapsed": false
   },
   "outputs": [
    {
     "data": {
      "text/plain": [
       "0.9989539748953975"
      ]
     },
     "execution_count": 142,
     "metadata": {},
     "output_type": "execute_result"
    }
   ],
   "source": [
    "rf_top.score(X_top_test, y_test)"
   ]
  },
  {
   "cell_type": "code",
   "execution_count": 144,
   "metadata": {
    "collapsed": false
   },
   "outputs": [
    {
     "data": {
      "image/png": "[encoded data removed]",
      "text/plain": [
       "<matplotlib.figure.Figure at 0x1554eb590>"
      ]
     },
     "metadata": {},
     "output_type": "display_data"
    }
   ],
   "source": [
    "feature_importance(rf_top, X_top_smoted, y_smoted)"
   ]
  },
  {
   "cell_type": "code",
   "execution_count": 145,
   "metadata": {
    "collapsed": true
   },
   "outputs": [],
   "source": [
    "y_pred = rf_top.predict(X_top_test)"
   ]
  },
  {
   "cell_type": "code",
   "execution_count": 146,
   "metadata": {
    "collapsed": false
   },
   "outputs": [
    {
     "data": {
      "text/plain": [
       "array([[2614,    0],\n",
       "       [   3,  251]])"
      ]
     },
     "execution_count": 146,
     "metadata": {},
     "output_type": "execute_result"
    }
   ],
   "source": [
    "confusion_matrix(y_test, y_pred)"
   ]
  },
  {
   "cell_type": "code",
   "execution_count": 47,
   "metadata": {
    "collapsed": true
   },
   "outputs": [],
   "source": [
    "y_pred_probs = rf_top.predict_proba(X_top_test)"
   ]
  },
  {
   "cell_type": "markdown",
   "metadata": {},
   "source": [
    "### Pickling RandomForest Model"
   ]
  },
  {
   "cell_type": "code",
   "execution_count": 147,
   "metadata": {
    "collapsed": true
   },
   "outputs": [],
   "source": [
    "with open('random_forest.pkl', 'w') as f:\n",
    "    pickle.dump(rf_top, f)"
   ]
  },
  {
   "cell_type": "markdown",
   "metadata": {},
   "source": [
    "## Trying Other Models"
   ]
  },
  {
   "cell_type": "code",
   "execution_count": 54,
   "metadata": {
    "collapsed": false
   },
   "outputs": [],
   "source": [
    "# Grid Search on SVM\n",
    "parameters = {'kernel':('linear', 'rbf'), 'C':[1, 10, 0.1]}\n",
    "svm = SVC()\n",
    "gs = GridSearchCV(svm, parameters, scoring='recall')"
   ]
  },
  {
   "cell_type": "code",
   "execution_count": null,
   "metadata": {
    "collapsed": true
   },
   "outputs": [],
   "source": [
    "gs.fit(X_top_train, y_train)"
   ]
  },
  {
   "cell_type": "code",
   "execution_count": null,
   "metadata": {
    "collapsed": true
   },
   "outputs": [],
   "source": [
    "# Grid Search on GBR\n",
    "gradient_boosting_grid = {'learning_rate':[0.01, 0.05, 0.1, 0.5], \n",
    "                          'max_depth': [1, 3, 5, 7],\n",
    "                          'min_samples_leaf': [1, 2, 4, 6],\n",
    "                          'n_estimators': [20, 100, 200]}\n",
    "gbr = GradientBoostingClassifier()\n",
    "gs_gbr = GridSearchCV(gbr, gradient_boosting_grid, scoring='recall')"
   ]
  },
  {
   "cell_type": "code",
   "execution_count": null,
   "metadata": {
    "collapsed": true
   },
   "outputs": [],
   "source": []
  }
 ],
 "metadata": {
  "kernelspec": {
   "display_name": "Python 2",
   "language": "python",
   "name": "python2"
  },
  "language_info": {
   "codemirror_mode": {
    "name": "ipython",
    "version": 2
   },
   "file_extension": ".py",
   "mimetype": "text/x-python",
   "name": "python",
   "nbconvert_exporter": "python",
   "pygments_lexer": "ipython2",
   "version": "2.7.11"
  }
 },
 "nbformat": 4,
 "nbformat_minor": 0
}
